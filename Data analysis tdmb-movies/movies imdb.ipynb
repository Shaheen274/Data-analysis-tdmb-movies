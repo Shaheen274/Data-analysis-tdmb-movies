{
 "cells": [
  {
   "cell_type": "code",
   "execution_count": 1,
   "id": "d30f2330",
   "metadata": {},
   "outputs": [],
   "source": [
    "import numpy as np\n",
    "import pandas as pd\n",
    "import matplotlib.pyplot as plt\n",
    "from datetime import datetime\n",
    "import seaborn as sns\n",
    "%matplotlib inline"
   ]
  },
  {
   "cell_type": "markdown",
   "id": "0b7bf279",
   "metadata": {},
   "source": [
    "# load the csv file"
   ]
  },
  {
   "cell_type": "code",
   "execution_count": 2,
   "id": "c56a7fa0",
   "metadata": {},
   "outputs": [],
   "source": [
    "movies=pd.read_csv('tmdb-movies.csv')"
   ]
  },
  {
   "cell_type": "markdown",
   "id": "3a8dd1d0",
   "metadata": {},
   "source": [
    "# Exploring Data"
   ]
  },
  {
   "cell_type": "code",
   "execution_count": 3,
   "id": "d0372c5f",
   "metadata": {},
   "outputs": [
    {
     "name": "stdout",
     "output_type": "stream",
     "text": [
      "<class 'pandas.core.frame.DataFrame'>\n",
      "RangeIndex: 10866 entries, 0 to 10865\n",
      "Data columns (total 21 columns):\n",
      " #   Column                Non-Null Count  Dtype  \n",
      "---  ------                --------------  -----  \n",
      " 0   id                    10866 non-null  int64  \n",
      " 1   imdb_id               10856 non-null  object \n",
      " 2   popularity            10866 non-null  float64\n",
      " 3   budget                10866 non-null  int64  \n",
      " 4   revenue               10866 non-null  int64  \n",
      " 5   original_title        10866 non-null  object \n",
      " 6   cast                  10790 non-null  object \n",
      " 7   homepage              2936 non-null   object \n",
      " 8   director              10822 non-null  object \n",
      " 9   tagline               8042 non-null   object \n",
      " 10  keywords              9373 non-null   object \n",
      " 11  overview              10862 non-null  object \n",
      " 12  runtime               10866 non-null  int64  \n",
      " 13  genres                10843 non-null  object \n",
      " 14  production_companies  9836 non-null   object \n",
      " 15  release_date          10866 non-null  object \n",
      " 16  vote_count            10866 non-null  int64  \n",
      " 17  vote_average          10866 non-null  float64\n",
      " 18  release_year          10866 non-null  int64  \n",
      " 19  budget_adj            10866 non-null  float64\n",
      " 20  revenue_adj           10866 non-null  float64\n",
      "dtypes: float64(4), int64(6), object(11)\n",
      "memory usage: 1.7+ MB\n"
     ]
    }
   ],
   "source": [
    "movies.info()"
   ]
  },
  {
   "cell_type": "code",
   "execution_count": 4,
   "id": "9661dcc3",
   "metadata": {},
   "outputs": [
    {
     "data": {
      "text/plain": [
       "(10866, 21)"
      ]
     },
     "execution_count": 4,
     "metadata": {},
     "output_type": "execute_result"
    }
   ],
   "source": [
    "movies.shape"
   ]
  },
  {
   "cell_type": "markdown",
   "id": "bb31fb64",
   "metadata": {},
   "source": [
    "### we have 10866 rows and 21 columns"
   ]
  },
  {
   "cell_type": "code",
   "execution_count": 5,
   "id": "4af4dc45",
   "metadata": {},
   "outputs": [
    {
     "data": {
      "text/html": [
       "<div>\n",
       "<style scoped>\n",
       "    .dataframe tbody tr th:only-of-type {\n",
       "        vertical-align: middle;\n",
       "    }\n",
       "\n",
       "    .dataframe tbody tr th {\n",
       "        vertical-align: top;\n",
       "    }\n",
       "\n",
       "    .dataframe thead th {\n",
       "        text-align: right;\n",
       "    }\n",
       "</style>\n",
       "<table border=\"1\" class=\"dataframe\">\n",
       "  <thead>\n",
       "    <tr style=\"text-align: right;\">\n",
       "      <th></th>\n",
       "      <th>id</th>\n",
       "      <th>imdb_id</th>\n",
       "      <th>popularity</th>\n",
       "      <th>budget</th>\n",
       "      <th>revenue</th>\n",
       "      <th>original_title</th>\n",
       "      <th>cast</th>\n",
       "      <th>homepage</th>\n",
       "      <th>director</th>\n",
       "      <th>tagline</th>\n",
       "      <th>...</th>\n",
       "      <th>overview</th>\n",
       "      <th>runtime</th>\n",
       "      <th>genres</th>\n",
       "      <th>production_companies</th>\n",
       "      <th>release_date</th>\n",
       "      <th>vote_count</th>\n",
       "      <th>vote_average</th>\n",
       "      <th>release_year</th>\n",
       "      <th>budget_adj</th>\n",
       "      <th>revenue_adj</th>\n",
       "    </tr>\n",
       "  </thead>\n",
       "  <tbody>\n",
       "    <tr>\n",
       "      <th>0</th>\n",
       "      <td>135397</td>\n",
       "      <td>tt0369610</td>\n",
       "      <td>32.985763</td>\n",
       "      <td>150000000</td>\n",
       "      <td>1513528810</td>\n",
       "      <td>Jurassic World</td>\n",
       "      <td>Chris Pratt|Bryce Dallas Howard|Irrfan Khan|Vi...</td>\n",
       "      <td>http://www.jurassicworld.com/</td>\n",
       "      <td>Colin Trevorrow</td>\n",
       "      <td>The park is open.</td>\n",
       "      <td>...</td>\n",
       "      <td>Twenty-two years after the events of Jurassic ...</td>\n",
       "      <td>124</td>\n",
       "      <td>Action|Adventure|Science Fiction|Thriller</td>\n",
       "      <td>Universal Studios|Amblin Entertainment|Legenda...</td>\n",
       "      <td>6/9/15</td>\n",
       "      <td>5562</td>\n",
       "      <td>6.5</td>\n",
       "      <td>2015</td>\n",
       "      <td>1.379999e+08</td>\n",
       "      <td>1.392446e+09</td>\n",
       "    </tr>\n",
       "    <tr>\n",
       "      <th>1</th>\n",
       "      <td>76341</td>\n",
       "      <td>tt1392190</td>\n",
       "      <td>28.419936</td>\n",
       "      <td>150000000</td>\n",
       "      <td>378436354</td>\n",
       "      <td>Mad Max: Fury Road</td>\n",
       "      <td>Tom Hardy|Charlize Theron|Hugh Keays-Byrne|Nic...</td>\n",
       "      <td>http://www.madmaxmovie.com/</td>\n",
       "      <td>George Miller</td>\n",
       "      <td>What a Lovely Day.</td>\n",
       "      <td>...</td>\n",
       "      <td>An apocalyptic story set in the furthest reach...</td>\n",
       "      <td>120</td>\n",
       "      <td>Action|Adventure|Science Fiction|Thriller</td>\n",
       "      <td>Village Roadshow Pictures|Kennedy Miller Produ...</td>\n",
       "      <td>5/13/15</td>\n",
       "      <td>6185</td>\n",
       "      <td>7.1</td>\n",
       "      <td>2015</td>\n",
       "      <td>1.379999e+08</td>\n",
       "      <td>3.481613e+08</td>\n",
       "    </tr>\n",
       "    <tr>\n",
       "      <th>2</th>\n",
       "      <td>262500</td>\n",
       "      <td>tt2908446</td>\n",
       "      <td>13.112507</td>\n",
       "      <td>110000000</td>\n",
       "      <td>295238201</td>\n",
       "      <td>Insurgent</td>\n",
       "      <td>Shailene Woodley|Theo James|Kate Winslet|Ansel...</td>\n",
       "      <td>http://www.thedivergentseries.movie/#insurgent</td>\n",
       "      <td>Robert Schwentke</td>\n",
       "      <td>One Choice Can Destroy You</td>\n",
       "      <td>...</td>\n",
       "      <td>Beatrice Prior must confront her inner demons ...</td>\n",
       "      <td>119</td>\n",
       "      <td>Adventure|Science Fiction|Thriller</td>\n",
       "      <td>Summit Entertainment|Mandeville Films|Red Wago...</td>\n",
       "      <td>3/18/15</td>\n",
       "      <td>2480</td>\n",
       "      <td>6.3</td>\n",
       "      <td>2015</td>\n",
       "      <td>1.012000e+08</td>\n",
       "      <td>2.716190e+08</td>\n",
       "    </tr>\n",
       "    <tr>\n",
       "      <th>3</th>\n",
       "      <td>140607</td>\n",
       "      <td>tt2488496</td>\n",
       "      <td>11.173104</td>\n",
       "      <td>200000000</td>\n",
       "      <td>2068178225</td>\n",
       "      <td>Star Wars: The Force Awakens</td>\n",
       "      <td>Harrison Ford|Mark Hamill|Carrie Fisher|Adam D...</td>\n",
       "      <td>http://www.starwars.com/films/star-wars-episod...</td>\n",
       "      <td>J.J. Abrams</td>\n",
       "      <td>Every generation has a story.</td>\n",
       "      <td>...</td>\n",
       "      <td>Thirty years after defeating the Galactic Empi...</td>\n",
       "      <td>136</td>\n",
       "      <td>Action|Adventure|Science Fiction|Fantasy</td>\n",
       "      <td>Lucasfilm|Truenorth Productions|Bad Robot</td>\n",
       "      <td>12/15/15</td>\n",
       "      <td>5292</td>\n",
       "      <td>7.5</td>\n",
       "      <td>2015</td>\n",
       "      <td>1.839999e+08</td>\n",
       "      <td>1.902723e+09</td>\n",
       "    </tr>\n",
       "    <tr>\n",
       "      <th>4</th>\n",
       "      <td>168259</td>\n",
       "      <td>tt2820852</td>\n",
       "      <td>9.335014</td>\n",
       "      <td>190000000</td>\n",
       "      <td>1506249360</td>\n",
       "      <td>Furious 7</td>\n",
       "      <td>Vin Diesel|Paul Walker|Jason Statham|Michelle ...</td>\n",
       "      <td>http://www.furious7.com/</td>\n",
       "      <td>James Wan</td>\n",
       "      <td>Vengeance Hits Home</td>\n",
       "      <td>...</td>\n",
       "      <td>Deckard Shaw seeks revenge against Dominic Tor...</td>\n",
       "      <td>137</td>\n",
       "      <td>Action|Crime|Thriller</td>\n",
       "      <td>Universal Pictures|Original Film|Media Rights ...</td>\n",
       "      <td>4/1/15</td>\n",
       "      <td>2947</td>\n",
       "      <td>7.3</td>\n",
       "      <td>2015</td>\n",
       "      <td>1.747999e+08</td>\n",
       "      <td>1.385749e+09</td>\n",
       "    </tr>\n",
       "  </tbody>\n",
       "</table>\n",
       "<p>5 rows × 21 columns</p>\n",
       "</div>"
      ],
      "text/plain": [
       "       id    imdb_id  popularity     budget     revenue  \\\n",
       "0  135397  tt0369610   32.985763  150000000  1513528810   \n",
       "1   76341  tt1392190   28.419936  150000000   378436354   \n",
       "2  262500  tt2908446   13.112507  110000000   295238201   \n",
       "3  140607  tt2488496   11.173104  200000000  2068178225   \n",
       "4  168259  tt2820852    9.335014  190000000  1506249360   \n",
       "\n",
       "                 original_title  \\\n",
       "0                Jurassic World   \n",
       "1            Mad Max: Fury Road   \n",
       "2                     Insurgent   \n",
       "3  Star Wars: The Force Awakens   \n",
       "4                     Furious 7   \n",
       "\n",
       "                                                cast  \\\n",
       "0  Chris Pratt|Bryce Dallas Howard|Irrfan Khan|Vi...   \n",
       "1  Tom Hardy|Charlize Theron|Hugh Keays-Byrne|Nic...   \n",
       "2  Shailene Woodley|Theo James|Kate Winslet|Ansel...   \n",
       "3  Harrison Ford|Mark Hamill|Carrie Fisher|Adam D...   \n",
       "4  Vin Diesel|Paul Walker|Jason Statham|Michelle ...   \n",
       "\n",
       "                                            homepage          director  \\\n",
       "0                      http://www.jurassicworld.com/   Colin Trevorrow   \n",
       "1                        http://www.madmaxmovie.com/     George Miller   \n",
       "2     http://www.thedivergentseries.movie/#insurgent  Robert Schwentke   \n",
       "3  http://www.starwars.com/films/star-wars-episod...       J.J. Abrams   \n",
       "4                           http://www.furious7.com/         James Wan   \n",
       "\n",
       "                         tagline  ...  \\\n",
       "0              The park is open.  ...   \n",
       "1             What a Lovely Day.  ...   \n",
       "2     One Choice Can Destroy You  ...   \n",
       "3  Every generation has a story.  ...   \n",
       "4            Vengeance Hits Home  ...   \n",
       "\n",
       "                                            overview runtime  \\\n",
       "0  Twenty-two years after the events of Jurassic ...     124   \n",
       "1  An apocalyptic story set in the furthest reach...     120   \n",
       "2  Beatrice Prior must confront her inner demons ...     119   \n",
       "3  Thirty years after defeating the Galactic Empi...     136   \n",
       "4  Deckard Shaw seeks revenge against Dominic Tor...     137   \n",
       "\n",
       "                                      genres  \\\n",
       "0  Action|Adventure|Science Fiction|Thriller   \n",
       "1  Action|Adventure|Science Fiction|Thriller   \n",
       "2         Adventure|Science Fiction|Thriller   \n",
       "3   Action|Adventure|Science Fiction|Fantasy   \n",
       "4                      Action|Crime|Thriller   \n",
       "\n",
       "                                production_companies release_date vote_count  \\\n",
       "0  Universal Studios|Amblin Entertainment|Legenda...       6/9/15       5562   \n",
       "1  Village Roadshow Pictures|Kennedy Miller Produ...      5/13/15       6185   \n",
       "2  Summit Entertainment|Mandeville Films|Red Wago...      3/18/15       2480   \n",
       "3          Lucasfilm|Truenorth Productions|Bad Robot     12/15/15       5292   \n",
       "4  Universal Pictures|Original Film|Media Rights ...       4/1/15       2947   \n",
       "\n",
       "   vote_average  release_year    budget_adj   revenue_adj  \n",
       "0           6.5          2015  1.379999e+08  1.392446e+09  \n",
       "1           7.1          2015  1.379999e+08  3.481613e+08  \n",
       "2           6.3          2015  1.012000e+08  2.716190e+08  \n",
       "3           7.5          2015  1.839999e+08  1.902723e+09  \n",
       "4           7.3          2015  1.747999e+08  1.385749e+09  \n",
       "\n",
       "[5 rows x 21 columns]"
      ]
     },
     "execution_count": 5,
     "metadata": {},
     "output_type": "execute_result"
    }
   ],
   "source": [
    "movies.head()"
   ]
  },
  {
   "cell_type": "markdown",
   "id": "9a2cf088",
   "metadata": {},
   "source": [
    "# Cleaning Data "
   ]
  },
  {
   "cell_type": "markdown",
   "id": "15b21bc3",
   "metadata": {},
   "source": [
    "### removing the unused columns"
   ]
  },
  {
   "cell_type": "code",
   "execution_count": 6,
   "id": "96d08955",
   "metadata": {},
   "outputs": [
    {
     "name": "stdout",
     "output_type": "stream",
     "text": [
      "<class 'pandas.core.frame.DataFrame'>\n",
      "RangeIndex: 10866 entries, 0 to 10865\n",
      "Data columns (total 10 columns):\n",
      " #   Column          Non-Null Count  Dtype \n",
      "---  ------          --------------  ----- \n",
      " 0   budget          10866 non-null  int64 \n",
      " 1   revenue         10866 non-null  int64 \n",
      " 2   original_title  10866 non-null  object\n",
      " 3   cast            10790 non-null  object\n",
      " 4   director        10822 non-null  object\n",
      " 5   tagline         8042 non-null   object\n",
      " 6   runtime         10866 non-null  int64 \n",
      " 7   genres          10843 non-null  object\n",
      " 8   release_date    10866 non-null  object\n",
      " 9   release_year    10866 non-null  int64 \n",
      "dtypes: int64(4), object(6)\n",
      "memory usage: 849.0+ KB\n"
     ]
    }
   ],
   "source": [
    "movies=movies.drop(['id', 'imdb_id', 'popularity', 'budget_adj', 'revenue_adj', 'homepage', 'keywords', 'overview', 'production_companies', 'vote_count', 'vote_average'],axis=1)\n",
    "movies.info()"
   ]
  },
  {
   "cell_type": "markdown",
   "id": "f59e46fa",
   "metadata": {},
   "source": [
    "### we removed vote_count as every film name has a specific count so we can not compare it to any thing "
   ]
  },
  {
   "cell_type": "markdown",
   "id": "b205ade4",
   "metadata": {},
   "source": [
    "# check duplicates"
   ]
  },
  {
   "cell_type": "code",
   "execution_count": 7,
   "id": "e20d9a4c",
   "metadata": {},
   "outputs": [
    {
     "data": {
      "text/plain": [
       "False    10865\n",
       "True         1\n",
       "dtype: int64"
      ]
     },
     "execution_count": 7,
     "metadata": {},
     "output_type": "execute_result"
    }
   ],
   "source": [
    "movies.duplicated().value_counts()"
   ]
  },
  {
   "cell_type": "markdown",
   "id": "6dd46468",
   "metadata": {},
   "source": [
    "### so we have only one row duplicated"
   ]
  },
  {
   "cell_type": "code",
   "execution_count": 8,
   "id": "c441eb42",
   "metadata": {},
   "outputs": [],
   "source": [
    "movies.drop_duplicates(keep ='first', inplace=True)"
   ]
  },
  {
   "cell_type": "code",
   "execution_count": 9,
   "id": "78655f89",
   "metadata": {},
   "outputs": [
    {
     "data": {
      "text/plain": [
       "False    10865\n",
       "dtype: int64"
      ]
     },
     "execution_count": 9,
     "metadata": {},
     "output_type": "execute_result"
    }
   ],
   "source": [
    "movies.duplicated().value_counts()"
   ]
  },
  {
   "cell_type": "markdown",
   "id": "c4228469",
   "metadata": {},
   "source": [
    "### so no duplicates now"
   ]
  },
  {
   "cell_type": "markdown",
   "id": "65026695",
   "metadata": {},
   "source": [
    "### we have zero values in the revenue column so we have to take action with them according to their number "
   ]
  },
  {
   "cell_type": "code",
   "execution_count": 10,
   "id": "ef564d24",
   "metadata": {},
   "outputs": [
    {
     "data": {
      "text/plain": [
       "6016"
      ]
     },
     "execution_count": 10,
     "metadata": {},
     "output_type": "execute_result"
    }
   ],
   "source": [
    "movies[movies.revenue==0][\"revenue\"].count()"
   ]
  },
  {
   "cell_type": "markdown",
   "id": "fa9ba826",
   "metadata": {},
   "source": [
    "### big number of zeros need to be removed "
   ]
  },
  {
   "cell_type": "code",
   "execution_count": 11,
   "id": "23ac0071",
   "metadata": {},
   "outputs": [
    {
     "data": {
      "text/plain": [
       "(3854, 10)"
      ]
     },
     "execution_count": 11,
     "metadata": {},
     "output_type": "execute_result"
    }
   ],
   "source": [
    "movies=movies[(movies.revenue!=0)&(movies.budget!=0)]\n",
    "movies.shape\n"
   ]
  },
  {
   "cell_type": "markdown",
   "id": "828f6a4a",
   "metadata": {},
   "source": [
    "### no zeros in budget and revenue"
   ]
  },
  {
   "cell_type": "markdown",
   "id": "c79ea82b",
   "metadata": {},
   "source": [
    "### checking the removal of zeros"
   ]
  },
  {
   "cell_type": "code",
   "execution_count": 12,
   "id": "ee2df54f",
   "metadata": {},
   "outputs": [
    {
     "data": {
      "text/plain": [
       "0"
      ]
     },
     "execution_count": 12,
     "metadata": {},
     "output_type": "execute_result"
    }
   ],
   "source": [
    "movies[movies.revenue==0][\"revenue\"].count()"
   ]
  },
  {
   "cell_type": "markdown",
   "id": "babfc033",
   "metadata": {},
   "source": [
    "### removing nulls from revenue"
   ]
  },
  {
   "cell_type": "code",
   "execution_count": 13,
   "id": "be41349f",
   "metadata": {},
   "outputs": [],
   "source": [
    "movies.dropna(inplace=True,subset=[\"revenue\"])"
   ]
  },
  {
   "cell_type": "code",
   "execution_count": 14,
   "id": "b8f1186e",
   "metadata": {},
   "outputs": [
    {
     "data": {
      "text/plain": [
       "budget              0\n",
       "revenue             0\n",
       "original_title      0\n",
       "cast                4\n",
       "director            1\n",
       "tagline           280\n",
       "runtime             0\n",
       "genres              0\n",
       "release_date        0\n",
       "release_year        0\n",
       "dtype: int64"
      ]
     },
     "execution_count": 14,
     "metadata": {},
     "output_type": "execute_result"
    }
   ],
   "source": [
    "movies.isnull().sum()"
   ]
  },
  {
   "cell_type": "code",
   "execution_count": 15,
   "id": "9d497520",
   "metadata": {},
   "outputs": [
    {
     "data": {
      "text/plain": [
       "(3854, 10)"
      ]
     },
     "execution_count": 15,
     "metadata": {},
     "output_type": "execute_result"
    }
   ],
   "source": [
    "movies.shape"
   ]
  },
  {
   "cell_type": "markdown",
   "id": "b447818d",
   "metadata": {},
   "source": [
    "### no nulls"
   ]
  },
  {
   "cell_type": "markdown",
   "id": "bb6c0fa0",
   "metadata": {},
   "source": [
    "### removing zeros from runtime to be efficient in visuals"
   ]
  },
  {
   "cell_type": "code",
   "execution_count": 16,
   "id": "417f8070",
   "metadata": {},
   "outputs": [
    {
     "data": {
      "text/plain": [
       "0        124\n",
       "1        120\n",
       "2        119\n",
       "3        136\n",
       "4        137\n",
       "        ... \n",
       "10822    131\n",
       "10828    128\n",
       "10829    120\n",
       "10835    182\n",
       "10848    100\n",
       "Name: runtime, Length: 3854, dtype: int64"
      ]
     },
     "execution_count": 16,
     "metadata": {},
     "output_type": "execute_result"
    }
   ],
   "source": [
    "movies[\"runtime\"].replace('0', None)"
   ]
  },
  {
   "cell_type": "code",
   "execution_count": 17,
   "id": "0fe24c4f",
   "metadata": {},
   "outputs": [
    {
     "data": {
      "text/plain": [
       "count    3854.000000\n",
       "mean      109.220291\n",
       "std        19.922820\n",
       "min        15.000000\n",
       "25%        95.000000\n",
       "50%       106.000000\n",
       "75%       119.000000\n",
       "max       338.000000\n",
       "Name: runtime, dtype: float64"
      ]
     },
     "execution_count": 17,
     "metadata": {},
     "output_type": "execute_result"
    }
   ],
   "source": [
    "movies[\"runtime\"].describe()"
   ]
  },
  {
   "cell_type": "markdown",
   "id": "fe619786",
   "metadata": {},
   "source": [
    "### no zeros in runtime so it can be useful in analyzing"
   ]
  },
  {
   "cell_type": "markdown",
   "id": "8f4975c0",
   "metadata": {},
   "source": [
    "### changing date column to date format"
   ]
  },
  {
   "cell_type": "code",
   "execution_count": 18,
   "id": "78d55860",
   "metadata": {},
   "outputs": [
    {
     "name": "stdout",
     "output_type": "stream",
     "text": [
      "<class 'pandas.core.frame.DataFrame'>\n",
      "Int64Index: 3854 entries, 0 to 10848\n",
      "Data columns (total 10 columns):\n",
      " #   Column          Non-Null Count  Dtype         \n",
      "---  ------          --------------  -----         \n",
      " 0   budget          3854 non-null   int64         \n",
      " 1   revenue         3854 non-null   int64         \n",
      " 2   original_title  3854 non-null   object        \n",
      " 3   cast            3850 non-null   object        \n",
      " 4   director        3853 non-null   object        \n",
      " 5   tagline         3574 non-null   object        \n",
      " 6   runtime         3854 non-null   int64         \n",
      " 7   genres          3854 non-null   object        \n",
      " 8   release_date    3854 non-null   datetime64[ns]\n",
      " 9   release_year    3854 non-null   int64         \n",
      "dtypes: datetime64[ns](1), int64(4), object(5)\n",
      "memory usage: 331.2+ KB\n"
     ]
    }
   ],
   "source": [
    "movies[\"release_date\"]=pd.to_datetime(movies[\"release_date\"])\n",
    "movies.info()"
   ]
  },
  {
   "cell_type": "markdown",
   "id": "01ddf87e",
   "metadata": {},
   "source": [
    "### checking index of first column"
   ]
  },
  {
   "cell_type": "code",
   "execution_count": 19,
   "id": "787b13a2",
   "metadata": {},
   "outputs": [
    {
     "data": {
      "text/plain": [
       "150000000"
      ]
     },
     "execution_count": 19,
     "metadata": {},
     "output_type": "execute_result"
    }
   ],
   "source": [
    "movies.iloc[0,0]"
   ]
  },
  {
   "cell_type": "markdown",
   "id": "0ff53525",
   "metadata": {},
   "source": [
    "### first column is budget"
   ]
  },
  {
   "cell_type": "markdown",
   "id": "ab7d3161",
   "metadata": {},
   "source": [
    "### adding column of the total profit to analyze the data according to"
   ]
  },
  {
   "cell_type": "code",
   "execution_count": 20,
   "id": "94543696",
   "metadata": {},
   "outputs": [
    {
     "data": {
      "text/html": [
       "<div>\n",
       "<style scoped>\n",
       "    .dataframe tbody tr th:only-of-type {\n",
       "        vertical-align: middle;\n",
       "    }\n",
       "\n",
       "    .dataframe tbody tr th {\n",
       "        vertical-align: top;\n",
       "    }\n",
       "\n",
       "    .dataframe thead th {\n",
       "        text-align: right;\n",
       "    }\n",
       "</style>\n",
       "<table border=\"1\" class=\"dataframe\">\n",
       "  <thead>\n",
       "    <tr style=\"text-align: right;\">\n",
       "      <th></th>\n",
       "      <th>budget</th>\n",
       "      <th>revenue</th>\n",
       "      <th>profit</th>\n",
       "      <th>original_title</th>\n",
       "      <th>cast</th>\n",
       "      <th>director</th>\n",
       "      <th>tagline</th>\n",
       "      <th>runtime</th>\n",
       "      <th>genres</th>\n",
       "      <th>release_date</th>\n",
       "      <th>release_year</th>\n",
       "    </tr>\n",
       "  </thead>\n",
       "  <tbody>\n",
       "    <tr>\n",
       "      <th>0</th>\n",
       "      <td>150000000</td>\n",
       "      <td>1513528810</td>\n",
       "      <td>1363528810</td>\n",
       "      <td>Jurassic World</td>\n",
       "      <td>Chris Pratt|Bryce Dallas Howard|Irrfan Khan|Vi...</td>\n",
       "      <td>Colin Trevorrow</td>\n",
       "      <td>The park is open.</td>\n",
       "      <td>124</td>\n",
       "      <td>Action|Adventure|Science Fiction|Thriller</td>\n",
       "      <td>2015-06-09</td>\n",
       "      <td>2015</td>\n",
       "    </tr>\n",
       "    <tr>\n",
       "      <th>1</th>\n",
       "      <td>150000000</td>\n",
       "      <td>378436354</td>\n",
       "      <td>228436354</td>\n",
       "      <td>Mad Max: Fury Road</td>\n",
       "      <td>Tom Hardy|Charlize Theron|Hugh Keays-Byrne|Nic...</td>\n",
       "      <td>George Miller</td>\n",
       "      <td>What a Lovely Day.</td>\n",
       "      <td>120</td>\n",
       "      <td>Action|Adventure|Science Fiction|Thriller</td>\n",
       "      <td>2015-05-13</td>\n",
       "      <td>2015</td>\n",
       "    </tr>\n",
       "    <tr>\n",
       "      <th>2</th>\n",
       "      <td>110000000</td>\n",
       "      <td>295238201</td>\n",
       "      <td>185238201</td>\n",
       "      <td>Insurgent</td>\n",
       "      <td>Shailene Woodley|Theo James|Kate Winslet|Ansel...</td>\n",
       "      <td>Robert Schwentke</td>\n",
       "      <td>One Choice Can Destroy You</td>\n",
       "      <td>119</td>\n",
       "      <td>Adventure|Science Fiction|Thriller</td>\n",
       "      <td>2015-03-18</td>\n",
       "      <td>2015</td>\n",
       "    </tr>\n",
       "    <tr>\n",
       "      <th>3</th>\n",
       "      <td>200000000</td>\n",
       "      <td>2068178225</td>\n",
       "      <td>1868178225</td>\n",
       "      <td>Star Wars: The Force Awakens</td>\n",
       "      <td>Harrison Ford|Mark Hamill|Carrie Fisher|Adam D...</td>\n",
       "      <td>J.J. Abrams</td>\n",
       "      <td>Every generation has a story.</td>\n",
       "      <td>136</td>\n",
       "      <td>Action|Adventure|Science Fiction|Fantasy</td>\n",
       "      <td>2015-12-15</td>\n",
       "      <td>2015</td>\n",
       "    </tr>\n",
       "    <tr>\n",
       "      <th>4</th>\n",
       "      <td>190000000</td>\n",
       "      <td>1506249360</td>\n",
       "      <td>1316249360</td>\n",
       "      <td>Furious 7</td>\n",
       "      <td>Vin Diesel|Paul Walker|Jason Statham|Michelle ...</td>\n",
       "      <td>James Wan</td>\n",
       "      <td>Vengeance Hits Home</td>\n",
       "      <td>137</td>\n",
       "      <td>Action|Crime|Thriller</td>\n",
       "      <td>2015-04-01</td>\n",
       "      <td>2015</td>\n",
       "    </tr>\n",
       "    <tr>\n",
       "      <th>...</th>\n",
       "      <td>...</td>\n",
       "      <td>...</td>\n",
       "      <td>...</td>\n",
       "      <td>...</td>\n",
       "      <td>...</td>\n",
       "      <td>...</td>\n",
       "      <td>...</td>\n",
       "      <td>...</td>\n",
       "      <td>...</td>\n",
       "      <td>...</td>\n",
       "      <td>...</td>\n",
       "    </tr>\n",
       "    <tr>\n",
       "      <th>10822</th>\n",
       "      <td>7500000</td>\n",
       "      <td>33736689</td>\n",
       "      <td>26236689</td>\n",
       "      <td>Who's Afraid of Virginia Woolf?</td>\n",
       "      <td>Elizabeth Taylor|Richard Burton|George Segal|S...</td>\n",
       "      <td>Mike Nichols</td>\n",
       "      <td>You are cordially invited to George and Martha...</td>\n",
       "      <td>131</td>\n",
       "      <td>Drama</td>\n",
       "      <td>2066-06-21</td>\n",
       "      <td>1966</td>\n",
       "    </tr>\n",
       "    <tr>\n",
       "      <th>10828</th>\n",
       "      <td>3000000</td>\n",
       "      <td>13000000</td>\n",
       "      <td>10000000</td>\n",
       "      <td>Torn Curtain</td>\n",
       "      <td>Paul Newman|Julie Andrews|Lila Kedrova|HansjÃ¶...</td>\n",
       "      <td>Alfred Hitchcock</td>\n",
       "      <td>It tears you apart with suspense!</td>\n",
       "      <td>128</td>\n",
       "      <td>Mystery|Thriller</td>\n",
       "      <td>2066-07-13</td>\n",
       "      <td>1966</td>\n",
       "    </tr>\n",
       "    <tr>\n",
       "      <th>10829</th>\n",
       "      <td>4653000</td>\n",
       "      <td>6000000</td>\n",
       "      <td>1347000</td>\n",
       "      <td>El Dorado</td>\n",
       "      <td>John Wayne|Robert Mitchum|James Caan|Charlene ...</td>\n",
       "      <td>Howard Hawks</td>\n",
       "      <td>It's the Big One with the Big Two</td>\n",
       "      <td>120</td>\n",
       "      <td>Action|Western</td>\n",
       "      <td>2066-12-17</td>\n",
       "      <td>1966</td>\n",
       "    </tr>\n",
       "    <tr>\n",
       "      <th>10835</th>\n",
       "      <td>12000000</td>\n",
       "      <td>20000000</td>\n",
       "      <td>8000000</td>\n",
       "      <td>The Sand Pebbles</td>\n",
       "      <td>Steve McQueen|Richard Attenborough|Richard Cre...</td>\n",
       "      <td>Robert Wise</td>\n",
       "      <td>This is the heroic story of the men on the U.S...</td>\n",
       "      <td>182</td>\n",
       "      <td>Action|Adventure|Drama|War|Romance</td>\n",
       "      <td>2066-12-20</td>\n",
       "      <td>1966</td>\n",
       "    </tr>\n",
       "    <tr>\n",
       "      <th>10848</th>\n",
       "      <td>5115000</td>\n",
       "      <td>12000000</td>\n",
       "      <td>6885000</td>\n",
       "      <td>Fantastic Voyage</td>\n",
       "      <td>Stephen Boyd|Raquel Welch|Edmond O'Brien|Donal...</td>\n",
       "      <td>Richard Fleischer</td>\n",
       "      <td>A Fantastic and Spectacular Voyage... Through ...</td>\n",
       "      <td>100</td>\n",
       "      <td>Adventure|Science Fiction</td>\n",
       "      <td>2066-08-24</td>\n",
       "      <td>1966</td>\n",
       "    </tr>\n",
       "  </tbody>\n",
       "</table>\n",
       "<p>3854 rows × 11 columns</p>\n",
       "</div>"
      ],
      "text/plain": [
       "          budget     revenue      profit                   original_title  \\\n",
       "0      150000000  1513528810  1363528810                   Jurassic World   \n",
       "1      150000000   378436354   228436354               Mad Max: Fury Road   \n",
       "2      110000000   295238201   185238201                        Insurgent   \n",
       "3      200000000  2068178225  1868178225     Star Wars: The Force Awakens   \n",
       "4      190000000  1506249360  1316249360                        Furious 7   \n",
       "...          ...         ...         ...                              ...   \n",
       "10822    7500000    33736689    26236689  Who's Afraid of Virginia Woolf?   \n",
       "10828    3000000    13000000    10000000                     Torn Curtain   \n",
       "10829    4653000     6000000     1347000                        El Dorado   \n",
       "10835   12000000    20000000     8000000                 The Sand Pebbles   \n",
       "10848    5115000    12000000     6885000                 Fantastic Voyage   \n",
       "\n",
       "                                                    cast           director  \\\n",
       "0      Chris Pratt|Bryce Dallas Howard|Irrfan Khan|Vi...    Colin Trevorrow   \n",
       "1      Tom Hardy|Charlize Theron|Hugh Keays-Byrne|Nic...      George Miller   \n",
       "2      Shailene Woodley|Theo James|Kate Winslet|Ansel...   Robert Schwentke   \n",
       "3      Harrison Ford|Mark Hamill|Carrie Fisher|Adam D...        J.J. Abrams   \n",
       "4      Vin Diesel|Paul Walker|Jason Statham|Michelle ...          James Wan   \n",
       "...                                                  ...                ...   \n",
       "10822  Elizabeth Taylor|Richard Burton|George Segal|S...       Mike Nichols   \n",
       "10828  Paul Newman|Julie Andrews|Lila Kedrova|HansjÃ¶...   Alfred Hitchcock   \n",
       "10829  John Wayne|Robert Mitchum|James Caan|Charlene ...       Howard Hawks   \n",
       "10835  Steve McQueen|Richard Attenborough|Richard Cre...        Robert Wise   \n",
       "10848  Stephen Boyd|Raquel Welch|Edmond O'Brien|Donal...  Richard Fleischer   \n",
       "\n",
       "                                                 tagline  runtime  \\\n",
       "0                                      The park is open.      124   \n",
       "1                                     What a Lovely Day.      120   \n",
       "2                             One Choice Can Destroy You      119   \n",
       "3                          Every generation has a story.      136   \n",
       "4                                    Vengeance Hits Home      137   \n",
       "...                                                  ...      ...   \n",
       "10822  You are cordially invited to George and Martha...      131   \n",
       "10828                  It tears you apart with suspense!      128   \n",
       "10829                  It's the Big One with the Big Two      120   \n",
       "10835  This is the heroic story of the men on the U.S...      182   \n",
       "10848  A Fantastic and Spectacular Voyage... Through ...      100   \n",
       "\n",
       "                                          genres release_date  release_year  \n",
       "0      Action|Adventure|Science Fiction|Thriller   2015-06-09          2015  \n",
       "1      Action|Adventure|Science Fiction|Thriller   2015-05-13          2015  \n",
       "2             Adventure|Science Fiction|Thriller   2015-03-18          2015  \n",
       "3       Action|Adventure|Science Fiction|Fantasy   2015-12-15          2015  \n",
       "4                          Action|Crime|Thriller   2015-04-01          2015  \n",
       "...                                          ...          ...           ...  \n",
       "10822                                      Drama   2066-06-21          1966  \n",
       "10828                           Mystery|Thriller   2066-07-13          1966  \n",
       "10829                             Action|Western   2066-12-17          1966  \n",
       "10835         Action|Adventure|Drama|War|Romance   2066-12-20          1966  \n",
       "10848                  Adventure|Science Fiction   2066-08-24          1966  \n",
       "\n",
       "[3854 rows x 11 columns]"
      ]
     },
     "execution_count": 20,
     "metadata": {},
     "output_type": "execute_result"
    }
   ],
   "source": [
    "movies.insert(2,\"profit\",movies[\"revenue\"]-movies[\"budget\"])\n",
    "movies"
   ]
  },
  {
   "cell_type": "markdown",
   "id": "d0ccd818",
   "metadata": {},
   "source": [
    "# some insights"
   ]
  },
  {
   "cell_type": "markdown",
   "id": "83f97f7b",
   "metadata": {},
   "source": [
    "## 1- detecting the maximum and minimum profit with its data"
   ]
  },
  {
   "cell_type": "markdown",
   "id": "3ab296e3",
   "metadata": {},
   "source": [
    "### max_min function takes an argument (column) and returns the maximum and minimum  data values of this column"
   ]
  },
  {
   "cell_type": "code",
   "execution_count": 21,
   "id": "c1a32e80",
   "metadata": {},
   "outputs": [
    {
     "data": {
      "text/plain": [
       "(                                                             1386\n",
       " budget                                                  237000000\n",
       " revenue                                                2781505847\n",
       " profit                                                 2544505847\n",
       " original_title                                             Avatar\n",
       " cast            Sam Worthington|Zoe Saldana|Sigourney Weaver|S...\n",
       " director                                            James Cameron\n",
       " tagline                               Enter the World of Pandora.\n",
       " runtime                                                       162\n",
       " genres                   Action|Adventure|Fantasy|Science Fiction\n",
       " release_date                                  2009-12-10 00:00:00\n",
       " release_year                                                 2009,\n",
       "                                                              2244\n",
       " budget                                                  425000000\n",
       " revenue                                                  11087569\n",
       " profit                                                 -413912431\n",
       " original_title                                  The Warrior's Way\n",
       " cast            Kate Bosworth|Jang Dong-gun|Geoffrey Rush|Dann...\n",
       " director                                               Sngmoo Lee\n",
       " tagline                                   Assassin. Hero. Legend.\n",
       " runtime                                                       100\n",
       " genres                  Adventure|Fantasy|Action|Western|Thriller\n",
       " release_date                                  2010-12-02 00:00:00\n",
       " release_year                                                 2010)"
      ]
     },
     "execution_count": 21,
     "metadata": {},
     "output_type": "execute_result"
    }
   ],
   "source": [
    "def max_min(col):\n",
    "    maxi=pd.DataFrame(movies.loc[movies[col].idxmax()])\n",
    "    mini=pd.DataFrame(movies.loc[movies[col].idxmin()])\n",
    "    return maxi,mini\n",
    "max_min(\"profit\")"
   ]
  },
  {
   "cell_type": "markdown",
   "id": "a38de167",
   "metadata": {},
   "source": [
    "### film with maximum profit is Avatar\n",
    "### film with minimum profit is The Warrior's Way"
   ]
  },
  {
   "cell_type": "markdown",
   "id": "c892cfc1",
   "metadata": {},
   "source": [
    "## 2- detecting the maximum and minimum budget with its data"
   ]
  },
  {
   "cell_type": "code",
   "execution_count": 22,
   "id": "629ef681",
   "metadata": {},
   "outputs": [
    {
     "data": {
      "text/plain": [
       "(                                                             2244\n",
       " budget                                                  425000000\n",
       " revenue                                                  11087569\n",
       " profit                                                 -413912431\n",
       " original_title                                  The Warrior's Way\n",
       " cast            Kate Bosworth|Jang Dong-gun|Geoffrey Rush|Dann...\n",
       " director                                               Sngmoo Lee\n",
       " tagline                                   Assassin. Hero. Legend.\n",
       " runtime                                                       100\n",
       " genres                  Adventure|Fantasy|Action|Western|Thriller\n",
       " release_date                                  2010-12-02 00:00:00\n",
       " release_year                                                 2010,\n",
       "                                                              2618\n",
       " budget                                                          1\n",
       " revenue                                                       100\n",
       " profit                                                         99\n",
       " original_title                                       Lost & Found\n",
       " cast            David Spade|Sophie Marceau|Ever Carradine|Step...\n",
       " director                                             Jeff Pollack\n",
       " tagline         A comedy about a guy who would do anything to ...\n",
       " runtime                                                        95\n",
       " genres                                             Comedy|Romance\n",
       " release_date                                  1999-04-23 00:00:00\n",
       " release_year                                                 1999)"
      ]
     },
     "execution_count": 22,
     "metadata": {},
     "output_type": "execute_result"
    }
   ],
   "source": [
    "max_min(\"budget\")"
   ]
  },
  {
   "cell_type": "markdown",
   "id": "09f6b2c8",
   "metadata": {},
   "source": [
    "### film with maximum budget is The Warrior's Way\n",
    "### film with minimum budget is Lost & Found"
   ]
  },
  {
   "cell_type": "markdown",
   "id": "5984bcbf",
   "metadata": {},
   "source": [
    "## 3- detecting the maximum and minimum revenue with its data"
   ]
  },
  {
   "cell_type": "code",
   "execution_count": 23,
   "id": "5da2b704",
   "metadata": {},
   "outputs": [
    {
     "data": {
      "text/plain": [
       "(                                                             1386\n",
       " budget                                                  237000000\n",
       " revenue                                                2781505847\n",
       " profit                                                 2544505847\n",
       " original_title                                             Avatar\n",
       " cast            Sam Worthington|Zoe Saldana|Sigourney Weaver|S...\n",
       " director                                            James Cameron\n",
       " tagline                               Enter the World of Pandora.\n",
       " runtime                                                       162\n",
       " genres                   Action|Adventure|Fantasy|Science Fiction\n",
       " release_date                                  2009-12-10 00:00:00\n",
       " release_year                                                 2009,\n",
       "                                                              5067\n",
       " budget                                                    6000000\n",
       " revenue                                                         2\n",
       " profit                                                   -5999998\n",
       " original_title                                    Shattered Glass\n",
       " cast            Hayden Christensen|Peter Sarsgaard|ChloÃ« Sevi...\n",
       " director                                                Billy Ray\n",
       " tagline                                                       NaN\n",
       " runtime                                                        94\n",
       " genres                                              Drama|History\n",
       " release_date                                  2003-11-14 00:00:00\n",
       " release_year                                                 2003)"
      ]
     },
     "execution_count": 23,
     "metadata": {},
     "output_type": "execute_result"
    }
   ],
   "source": [
    "max_min(\"revenue\")"
   ]
  },
  {
   "cell_type": "markdown",
   "id": "ce04fc64",
   "metadata": {},
   "source": [
    "### film with maximum revenue is Avatar\n",
    "### film with minimum revenue is Shattered Glass"
   ]
  },
  {
   "cell_type": "markdown",
   "id": "c3c9aabd",
   "metadata": {},
   "source": [
    "## 4- year of release and profit"
   ]
  },
  {
   "cell_type": "code",
   "execution_count": 24,
   "id": "b147a766",
   "metadata": {},
   "outputs": [
    {
     "data": {
      "text/plain": [
       "release_year\n",
       "1960      108198052\n",
       "1961      299083188\n",
       "1962      166879846\n",
       "1963      115411882\n",
       "1964      294678387\n",
       "1965      399281854\n",
       "1966       52468689\n",
       "1967      636334637\n",
       "1968      168271762\n",
       "1969      206862989\n",
       "1970      454070023\n",
       "1971      336284710\n",
       "1972      457235917\n",
       "1973     1057686099\n",
       "1974      650582027\n",
       "1975      808207270\n",
       "1976      629426536\n",
       "1977     1743308485\n",
       "1978     1005100089\n",
       "1979      950330150\n",
       "1980     1002065664\n",
       "1981     1320251458\n",
       "1982     1811756359\n",
       "1983     1505073842\n",
       "1984     1833438131\n",
       "1985     1666899046\n",
       "1986     1665354869\n",
       "1987     2148546726\n",
       "1988     2313076703\n",
       "1989     3603940908\n",
       "1990     3454904971\n",
       "1991     3048121485\n",
       "1992     3873046070\n",
       "1993     4575828325\n",
       "1994     4704384415\n",
       "1995     5608098320\n",
       "1996     4736626727\n",
       "1997     6380241248\n",
       "1998     5274145395\n",
       "1999     6433209130\n",
       "2000     6110774823\n",
       "2001     8022044875\n",
       "2002     9004589344\n",
       "2003     9202155213\n",
       "2004     9822506642\n",
       "2005     9259452998\n",
       "2006     8726299999\n",
       "2007    11686103667\n",
       "2008    11843373159\n",
       "2009    14069305071\n",
       "2010    13341222037\n",
       "2011    14966694704\n",
       "2012    16596845507\n",
       "2013    15782743325\n",
       "2014    16676201357\n",
       "2015    19032145273\n",
       "Name: profit, dtype: int64"
      ]
     },
     "execution_count": 24,
     "metadata": {},
     "output_type": "execute_result"
    }
   ],
   "source": [
    "year_profit=movies.groupby(\"release_year\")[\"profit\"].sum()\n",
    "year_profit"
   ]
  },
  {
   "cell_type": "code",
   "execution_count": 25,
   "id": "6265ef14",
   "metadata": {},
   "outputs": [
    {
     "data": {
      "image/png": "[encoded data removed]",
      "text/plain": [
       "<Figure size 432x288 with 1 Axes>"
      ]
     },
     "metadata": {
      "needs_background": "light"
     },
     "output_type": "display_data"
    }
   ],
   "source": [
    "plt.plot(year_profit)\n",
    "plt.xlabel('years')\n",
    "plt.ylabel('profit')\n",
    "plt.title('year vs profit')\n",
    "plt.show()"
   ]
  },
  {
   "cell_type": "markdown",
   "id": "90a08e5c",
   "metadata": {},
   "source": [
    "### we found that the profit increases by years and 2015 is the year of maximum profit"
   ]
  },
  {
   "cell_type": "markdown",
   "id": "bc9964a7",
   "metadata": {},
   "source": [
    "## 5- now we are going to see the relationship between genres and profit"
   ]
  },
  {
   "cell_type": "code",
   "execution_count": 26,
   "id": "cd1cc7a3",
   "metadata": {},
   "outputs": [
    {
     "data": {
      "text/plain": [
       "Drama                   245\n",
       "Comedy                  233\n",
       "Drama|Romance           107\n",
       "Comedy|Romance          104\n",
       "Comedy|Drama|Romance     91\n",
       "Comedy|Drama             88\n",
       "Horror|Thriller          81\n",
       "Horror                   58\n",
       "Drama|Thriller           48\n",
       "Action|Thriller          39\n",
       "Name: genres, dtype: int64"
      ]
     },
     "execution_count": 26,
     "metadata": {},
     "output_type": "execute_result"
    }
   ],
   "source": [
    "genres_profit_max=movies[\"genres\"].value_counts().head(10)\n",
    "genres_profit_max"
   ]
  },
  {
   "cell_type": "markdown",
   "id": "bc5dfbe2",
   "metadata": {},
   "source": [
    "### genres with max profit"
   ]
  },
  {
   "cell_type": "code",
   "execution_count": 27,
   "id": "e7d9475c",
   "metadata": {},
   "outputs": [
    {
     "data": {
      "text/plain": [
       "Text(0.5, 1.0, 'genres vs max profit')"
      ]
     },
     "execution_count": 27,
     "metadata": {},
     "output_type": "execute_result"
    },
    {
     "data": {
      "image/png": "[encoded data removed]",
      "text/plain": [
       "<Figure size 432x288 with 1 Axes>"
      ]
     },
     "metadata": {
      "needs_background": "light"
     },
     "output_type": "display_data"
    }
   ],
   "source": [
    "gen_prof = movies.groupby(['genres']).agg({'profit': 'sum'})\n",
    "z=gen_prof.sort_values(by=\"profit\",ascending=False).head(10)\n",
    "z.plot(kind=\"bar\")\n",
    "plt.xlabel('genres')\n",
    "plt.ylabel('profit')\n",
    "plt.title('genres vs max profit')"
   ]
  },
  {
   "cell_type": "markdown",
   "id": "382dc8af",
   "metadata": {},
   "source": [
    "### The genres that get maximum profit is comedy , drama and comedy|romance"
   ]
  },
  {
   "cell_type": "markdown",
   "id": "bdbcaa90",
   "metadata": {},
   "source": [
    "### genres with min profit"
   ]
  },
  {
   "cell_type": "code",
   "execution_count": 28,
   "id": "cf97e6e8",
   "metadata": {},
   "outputs": [
    {
     "data": {
      "text/plain": [
       "Text(0.5, 1.0, 'genres vs min profit')"
      ]
     },
     "execution_count": 28,
     "metadata": {},
     "output_type": "execute_result"
    },
    {
     "data": {
      "image/png": "[encoded data removed]",
      "text/plain": [
       "<Figure size 432x288 with 1 Axes>"
      ]
     },
     "metadata": {
      "needs_background": "light"
     },
     "output_type": "display_data"
    }
   ],
   "source": [
    "gen_prof = movies.groupby(['genres']).agg({'profit': 'sum'})\n",
    "y=gen_prof.sort_values(by=\"profit\",ascending=False).tail(10)\n",
    "y.plot(kind=\"bar\")\n",
    "plt.xlabel('genres')\n",
    "plt.ylabel('profit')\n",
    "plt.title('genres vs min profit')"
   ]
  },
  {
   "cell_type": "markdown",
   "id": "3cd654aa",
   "metadata": {},
   "source": [
    "### The genres that get minimum profit is action|war|science fiction and fantacy|action|comedy|crime\n"
   ]
  },
  {
   "cell_type": "markdown",
   "id": "0629fcb4",
   "metadata": {},
   "source": [
    "# 6- runtime calculations and insights"
   ]
  },
  {
   "cell_type": "code",
   "execution_count": 29,
   "id": "35e3b865",
   "metadata": {},
   "outputs": [
    {
     "data": {
      "text/plain": [
       "109.22029060716139"
      ]
     },
     "execution_count": 29,
     "metadata": {},
     "output_type": "execute_result"
    }
   ],
   "source": [
    "movies[\"runtime\"].mean()"
   ]
  },
  {
   "cell_type": "code",
   "execution_count": 30,
   "id": "57e18cf1",
   "metadata": {},
   "outputs": [
    {
     "data": {
      "image/png": "[encoded data removed]",
      "text/plain": [
       "<Figure size 432x288 with 1 Axes>"
      ]
     },
     "metadata": {
      "needs_background": "light"
     },
     "output_type": "display_data"
    }
   ],
   "source": [
    "plt.hist(movies[\"runtime\"],bins=20)\n",
    "plt.xlabel('runtime in minutes')\n",
    "plt.ylabel('number of films')\n",
    "plt.title('runtime vs number of films')\n",
    "plt.show()"
   ]
  },
  {
   "cell_type": "markdown",
   "id": "0c1f744a",
   "metadata": {},
   "source": [
    "### most movies runtime is around 100 minutes"
   ]
  },
  {
   "cell_type": "code",
   "execution_count": 31,
   "id": "3c0d66d6",
   "metadata": {},
   "outputs": [
    {
     "data": {
      "text/plain": [
       "Text(0.5, 1.0, 'profit vs runtime')"
      ]
     },
     "execution_count": 31,
     "metadata": {},
     "output_type": "execute_result"
    },
    {
     "data": {
      "image/png": "[encoded data removed]",
      "text/plain": [
       "<Figure size 432x288 with 1 Axes>"
      ]
     },
     "metadata": {
      "needs_background": "light"
     },
     "output_type": "display_data"
    }
   ],
   "source": [
    "d=movies.groupby(\"runtime\").agg({'profit': 'sum'})\n",
    "d.sort_values(by=\"profit\",ascending=False).head(10).plot(kind=\"bar\")\n",
    "plt.ylabel('profit')\n",
    "plt.xlabel('runtime in minutes')\n",
    "plt.title('profit vs runtime')"
   ]
  },
  {
   "cell_type": "markdown",
   "id": "026c07c0",
   "metadata": {},
   "source": [
    "### films about 130 min has max profit"
   ]
  },
  {
   "cell_type": "markdown",
   "id": "25e53ff7",
   "metadata": {},
   "source": [
    "# conclusion\n",
    "## to get a maximum profit the movie has to be in the following :\n",
    "### 1- Average Budget must be around 60 millon dollar\n",
    "### 2- Average duration of the movie must be 113 minutes\n",
    "### 3- Genre must be : Comedy, Drama , comedy|romance\n",
    "### 4- cast should has Sam Worthington, Zoe Saldana, Sigourney Weaver, James Cameron\n",
    "\n",
    "# limitations\n",
    "### I am not sure if the data is complete or not , budget and revenue columns do not have a currency and may be the movies are of different currencies which will affect our analysis , also removing rows of zeroes may affect the analysis since it was a big number of rows removed \n",
    "### some data has 1 and 2 values as budget which is not logic but w can not remove data any more "
   ]
  },
  {
   "cell_type": "code",
   "execution_count": null,
   "id": "3aeeed30",
   "metadata": {},
   "outputs": [],
   "source": []
  }
 ],
 "metadata": {
  "kernelspec": {
   "display_name": "Python 3",
   "language": "python",
   "name": "python3"
  },
  "language_info": {
   "codemirror_mode": {
    "name": "ipython",
    "version": 3
   },
   "file_extension": ".py",
   "mimetype": "text/x-python",
   "name": "python",
   "nbconvert_exporter": "python",
   "pygments_lexer": "ipython3",
   "version": "3.8.8"
  }
 },
 "nbformat": 4,
 "nbformat_minor": 5
}
